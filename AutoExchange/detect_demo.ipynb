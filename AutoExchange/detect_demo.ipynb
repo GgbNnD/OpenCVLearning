{
 "cells": [
  {
   "cell_type": "code",
   "execution_count": 1,
   "metadata": {},
   "outputs": [],
   "source": [
    "import cv2\n",
    "import matplotlib.pyplot as plt\n",
    "import numpy as np\n",
    "%matplotlib inline"
   ]
  },
  {
   "cell_type": "markdown",
   "metadata": {},
   "source": [
    "# 预处理"
   ]
  },
  {
   "cell_type": "code",
   "execution_count": null,
   "metadata": {},
   "outputs": [],
   "source": [
    "# 1. 读取图像（BGR格式）\n",
    "img = cv2.imread(\"station_red.png\")\n",
    "if img is None:\n",
    "    raise FileNotFoundError(\"图像路径错误！\")\n",
    "\n",
    "# 2. 分离通道（B, G, R）\n",
    "b, g, r = cv2.split(img)\n",
    "\n",
    "# 3. 叠加红蓝通道（使用cv2.add避免溢出）\n",
    "combined = cv2.add(r, b)  # 或者：combined = r + b（但可能溢出）\n",
    "\n",
    "# 4. 二值化处理（调整阈值以适应实际需求）\n",
    "threshold_value = 200  # 可根据需要调整阈值（如100、150等）\n",
    "_, binary = cv2.threshold(combined, threshold_value, 255, cv2.THRESH_BINARY)\n",
    "\n",
    "# 显示结果\n",
    "#cv2.imshow('Original Image', img)\n",
    "#cv2.imshow('Red + Blue Channels', combined)\n",
    "#cv2.imshow('Binary Result', binary)\n",
    "#cv2.waitKey(0)\n",
    "#cv2.destroyAllWindows()\n"
   ]
  },
  {
   "cell_type": "code",
   "execution_count": 19,
   "metadata": {},
   "outputs": [],
   "source": [
    "contours, _ = cv2.findContours(binary, cv2.RETR_EXTERNAL, cv2.CHAIN_APPROX_NONE)\n",
    "\n",
    "# 在原图上绘制轮廓\n",
    "output_image = img.copy()\n",
    "cv2.drawContours(output_image, contours, -1, (0, 255, 0), 2)  # 绿色轮廓，线宽为2\n",
    "\n",
    "# 显示结果\n",
    "cv2.imshow('Original Image', img)\n",
    "cv2.imshow('Binary Image', binary)\n",
    "cv2.imshow('Contours on Image', output_image)\n",
    "\n",
    "# 等待按键并关闭窗口\n",
    "cv2.waitKey(0)\n",
    "cv2.destroyAllWindows()"
   ]
  },
  {
   "cell_type": "code",
   "execution_count": null,
   "metadata": {},
   "outputs": [],
   "source": []
  }
 ],
 "metadata": {
  "kernelspec": {
   "display_name": "py39",
   "language": "python",
   "name": "python3"
  },
  "language_info": {
   "codemirror_mode": {
    "name": "ipython",
    "version": 3
   },
   "file_extension": ".py",
   "mimetype": "text/x-python",
   "name": "python",
   "nbconvert_exporter": "python",
   "pygments_lexer": "ipython3",
   "version": "3.9.15"
  }
 },
 "nbformat": 4,
 "nbformat_minor": 2
}
